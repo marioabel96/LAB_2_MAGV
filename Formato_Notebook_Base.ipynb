{
 "cells": [
  {
   "cell_type": "markdown",
   "metadata": {},
   "source": [
    "<img src=\"http://oci02.img.iteso.mx/identidad_de_instancia_2018/ITESO/Logos%20ITESO/Logo-ITESO-Principal.jpg\">"
   ]
  },
  {
   "cell_type": "markdown",
   "metadata": {},
   "source": [
    "---"
   ]
  },
  {
   "cell_type": "markdown",
   "metadata": {},
   "source": [
    "<center> <font color= #004A94> <font size = 5> Ingeniería Financiera | ITESO </font> <br> <br>"
   ]
  },
  {
   "cell_type": "markdown",
   "metadata": {},
   "source": [
    "<center> <font color= #004A94> <font size = 6> Microestructura y Sistemas de Trading </font> <br> <br>"
   ]
  },
  {
   "cell_type": "markdown",
   "metadata": {},
   "source": [
    "<center> <font color=#42c29b><font size=5> Laboratorio 2 <br> <br> Behavioral Finance para Trading </font> <br> <br>"
   ]
  },
  {
   "cell_type": "markdown",
   "metadata": {},
   "source": [
    "<center> <font color=#004A94><font size=4> I.F. Juan Francisco Muñoz Elguezabal | franciscome@iteso.mx </font> <br> <br>"
   ]
  },
  {
   "cell_type": "markdown",
   "metadata": {},
   "source": [
    "---"
   ]
  },
  {
   "cell_type": "markdown",
   "metadata": {},
   "source": [
    "# Abstract"
   ]
  },
  {
   "cell_type": "markdown",
   "metadata": {},
   "source": [
    "En este trabajo ..."
   ]
  },
  {
   "cell_type": "markdown",
   "metadata": {},
   "source": [
    "# Modulos y dependencias"
   ]
  },
  {
   "cell_type": "code",
   "execution_count": 3,
   "metadata": {},
   "outputs": [],
   "source": [
    "import datetime\n",
    "import pandas as pd\n",
    "import numpy as np"
   ]
  },
  {
   "cell_type": "code",
   "execution_count": 9,
   "metadata": {},
   "outputs": [],
   "source": [
    "pd.set_option('display.max_rows', None)                # sin limite de renglones maximos para mostrar pandas\n",
    "pd.set_option('display.max_columns', None)             # sin limite de columnas maximas para mostrar pandas\n",
    "pd.set_option('display.width', None)                   # sin limite el ancho del display\n",
    "pd.set_option('display.expand_frame_repr', False)      # visualizar todas las columnas de un dataframe\n",
    "pd.options.mode.chained_assignment = None              # para evitar el warning enfadoso de indexacion indv"
   ]
  },
  {
   "cell_type": "code",
   "execution_count": null,
   "metadata": {},
   "outputs": [],
   "source": [
    "def f_precios(p0_esc):\n",
    "    \"\"\"\n",
    "    Parameters\n",
    "    ----------\n",
    "    p0_esc : str : string con letra de escenario a probar\n",
    "    p1_datos : pd.DataFrame : datos de backtest\n",
    "\n",
    "    Returns\n",
    "    -------\n",
    "    rt_metricas : dict : diccionario con metricas calculadas para backtest\n",
    "\n",
    "    Debugging\n",
    "    ---------\n",
    "    p0_esc = 'B'\n",
    "    p1_datos = df_back\n",
    "\n",
    "    \"\"\"\n",
    "    \n",
    "    precios = {'datos': p0_esc + 1, 'grafica': 2, 'tabla':3}\n",
    "    \n",
    "    return precios"
   ]
  }
 ],
 "metadata": {
  "kernelspec": {
   "display_name": "Python 3",
   "language": "python",
   "name": "python3"
  },
  "language_info": {
   "codemirror_mode": {
    "name": "ipython",
    "version": 3
   },
   "file_extension": ".py",
   "mimetype": "text/x-python",
   "name": "python",
   "nbconvert_exporter": "python",
   "pygments_lexer": "ipython3",
   "version": "3.6.9"
  }
 },
 "nbformat": 4,
 "nbformat_minor": 2
}
